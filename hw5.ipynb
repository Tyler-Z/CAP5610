{
 "cells": [
  {
   "cell_type": "code",
   "execution_count": 2,
   "metadata": {},
   "outputs": [],
   "source": [
    "import numpy as np\n",
    "from numpy import *\n",
    "import pandas as pd\n",
    "import matplotlib.pyplot as plt\n",
    "from sklearn.metrics.pairwise import cosine_similarity\n",
    "from sklearn.datasets import load_iris\n",
    "from sklearn.cluster import KMeans\n",
    "from sklearn.preprocessing import StandardScaler\n",
    "from sklearn import preprocessing\n",
    "from sklearn import metrics\n",
    "from scipy import spatial\n",
    "from scipy.spatial.distance import pdist, cdist\n",
    "from sklearn.metrics.pairwise import euclidean_distances\n",
    "from sklearn.metrics import silhouette_score\n",
    "import math"
   ]
  },
  {
   "cell_type": "markdown",
   "metadata": {},
   "source": [
    "### Task 1"
   ]
  },
  {
   "cell_type": "code",
   "execution_count": 87,
   "metadata": {},
   "outputs": [
    {
     "data": {
      "image/png": "[encoded data removed]",
      "text/plain": [
       "<Figure size 432x288 with 1 Axes>"
      ]
     },
     "metadata": {
      "needs_background": "light"
     },
     "output_type": "display_data"
    }
   ],
   "source": [
    "x1 = np.array([3,5])\n",
    "x2 = np.array([3,4])\n",
    "x3 = np.array([2,8])\n",
    "x4 = np.array([2,3])\n",
    "x5 = np.array([6,2])\n",
    "x6 = np.array([6,4])\n",
    "x7 = np.array([7,3])\n",
    "x8 = np.array([7,4])\n",
    "x9 = np.array([8,5])\n",
    "x10 = np.array([7,6])\n",
    "samples = [x1, x2, x3, x4, x5, x6, x7, x8, x9, x10]\n",
    "\n",
    "x = np.array([3,3,2,2,6,6,7,7,8,7])\n",
    "y = np.array([5,4,8,3,2,4,3,4,5,6])\n",
    "plt.xlabel(\"# wins in Season 2016 (x-axis) \") \n",
    "plt.ylabel(\"# wins in Season 2017 (y-axis) \") \n",
    "plt.plot(x,y,\"ob\") \n",
    "plt.show()"
   ]
  },
  {
   "cell_type": "markdown",
   "metadata": {},
   "source": [
    ">(1) Initialize with two centroids, (4, 6) and (5, 4). Use Manhattan distance as the distance metric. First, perform one iteration of the K-means algorithm and report the coordinates of the resulting centroids. Second, please use K-Means to find two clusters."
   ]
  },
  {
   "cell_type": "code",
   "execution_count": 70,
   "metadata": {
    "scrolled": true
   },
   "outputs": [
    {
     "name": "stdout",
     "output_type": "stream",
     "text": [
      "[2, 3, 4, 5, 6, 4, 6, 5, 5, 3]\n",
      "==================================================\n",
      "[3.0, 2.0, 7.0, 4.0, 3.0, 1.0, 3.0, 2.0, 4.0, 4.0]\n"
     ]
    }
   ],
   "source": [
    "# Calculate the Manhattan distance between x1 and c1\n",
    "c1 = np.array([4,6])\n",
    "c2 = np.array([5,4])\n",
    "\n",
    "distance_c1 = list()\n",
    "distance_c2 = list()\n",
    "\n",
    "for i in samples:\n",
    "    md_c1 = np.sum(np.abs(i-c1))\n",
    "    distance_c1.append(md_c1)\n",
    "    md_c2 = np.linalg.norm(i-c2,ord=1)\n",
    "    distance_c2.append(md_c2)\n",
    "\n",
    "\n",
    "print(distance_c1)\n",
    "print(\"=\"*50)\n",
    "print(distance_c2)"
   ]
  },
  {
   "cell_type": "markdown",
   "metadata": {},
   "source": [
    ">(2) Initialize with two centroids, (4, 6) and (5, 4). Use Euclidean distance as the distance metric.\n",
    "First, perform one iteration of the K-means algorithm and report the coordinates of the\n",
    "resulting centroids. Second, please use K-Means to find two clusters."
   ]
  },
  {
   "cell_type": "code",
   "execution_count": 72,
   "metadata": {},
   "outputs": [
    {
     "name": "stdout",
     "output_type": "stream",
     "text": [
      "[1.41, 2.24, 2.83, 3.61, 4.47, 2.83, 4.24, 3.61, 4.12, 3.0]\n",
      "==================================================\n",
      "[2.24, 2.0, 5.0, 3.16, 2.24, 1.0, 2.24, 2.0, 3.16, 2.83]\n"
     ]
    }
   ],
   "source": [
    "# Calculate the Euclidean distance between x1 and c1\n",
    "c1 = np.array([4,6])\n",
    "c2 = np.array([5,4])\n",
    "distance_c1 = list()\n",
    "distance_c2 = list()\n",
    "\n",
    "for i in samples:\n",
    "    ed_c1 = np.sqrt(np.sum(np.square(i-c1)))\n",
    "    ed_c1 = np.around(ed_c1, decimals=2)\n",
    "    distance_c1.append(ed_c1)\n",
    "    ed_c2 = np.linalg.norm(i-c2,ord=2)\n",
    "    ed_c2 = np.around(ed_c2, decimals=2)\n",
    "    distance_c2.append(ed_c2)\n",
    "    \n",
    "\n",
    "print(distance_c1)\n",
    "print(\"=\"*50)\n",
    "print(distance_c2)"
   ]
  },
  {
   "cell_type": "markdown",
   "metadata": {},
   "source": [
    ">(3) Initialize with two centroids, (3, 3) and (8, 3). Use Manhattan distance as the distance metric.First, perform one iteration of the K-means algorithm and report the coordinates of the resulting centroids. Second, please use K-Means to find two clusters."
   ]
  },
  {
   "cell_type": "code",
   "execution_count": 75,
   "metadata": {},
   "outputs": [
    {
     "name": "stdout",
     "output_type": "stream",
     "text": [
      "[2, 1, 6, 1, 4, 4, 4, 5, 7, 7]\n",
      "==================================================\n",
      "[7.0, 6.0, 11.0, 6.0, 3.0, 3.0, 1.0, 2.0, 2.0, 4.0]\n"
     ]
    }
   ],
   "source": [
    "# Calculate the Manhattan distance between x1 and c1\n",
    "c1 = np.array([3,3])\n",
    "c2 = np.array([8,3])\n",
    "distance_c1 = list()\n",
    "distance_c2 = list()\n",
    "\n",
    "for i in samples:\n",
    "    md_c1 = np.sum(np.abs(i-c1))\n",
    "    distance_c1.append(md_c1)\n",
    "    md_c2 = np.linalg.norm(i-c2,ord=1)\n",
    "    distance_c2.append(md_c2)\n",
    "    \n",
    "print(distance_c1)\n",
    "print(\"=\"*50)\n",
    "print(distance_c2)"
   ]
  },
  {
   "cell_type": "markdown",
   "metadata": {},
   "source": [
    ">(4) Initialize with two centroids, (3, 2) and (4, 8). Use Manhattan distance as the distance metric. First, perform one iteration of the K-means algorithm and report the coordinates of the resulting centroids. Second, please use K-Means to find two clusters."
   ]
  },
  {
   "cell_type": "code",
   "execution_count": 76,
   "metadata": {},
   "outputs": [
    {
     "name": "stdout",
     "output_type": "stream",
     "text": [
      "[3, 2, 7, 2, 3, 5, 5, 6, 8, 8]\n",
      "==================================================\n",
      "[4.0, 5.0, 2.0, 7.0, 8.0, 6.0, 8.0, 7.0, 7.0, 5.0]\n"
     ]
    }
   ],
   "source": [
    "# Calculate the Manhattan distance between x1 and c1\n",
    "c1 = np.array([3,2])\n",
    "c2 = np.array([4,8])\n",
    "distance_c1 = list()\n",
    "distance_c2 = list()\n",
    "\n",
    "for i in samples:\n",
    "    md_c1 = np.sum(np.abs(i-c1))\n",
    "    distance_c1.append(md_c1)\n",
    "    md_c2 = np.linalg.norm(i-c2,ord=1)\n",
    "    distance_c2.append(md_c2)\n",
    "    \n",
    "print(distance_c1)\n",
    "print(\"=\"*50)\n",
    "print(distance_c2)"
   ]
  },
  {
   "cell_type": "markdown",
   "metadata": {},
   "source": [
    "## Task 2"
   ]
  },
  {
   "cell_type": "code",
   "execution_count": 4,
   "metadata": {},
   "outputs": [],
   "source": [
    "# data preparing\n",
    "data = load_iris().data\n",
    "label = load_iris()['target']\n",
    "std = StandardScaler()\n",
    "data = std.fit_transform(data)"
   ]
  },
  {
   "cell_type": "code",
   "execution_count": 5,
   "metadata": {},
   "outputs": [
    {
     "data": {
      "text/plain": [
       "array([0, 0, 0, 0, 0, 0, 0, 0, 0, 0, 0, 0, 0, 0, 0, 0, 0, 0, 0, 0, 0, 0,\n",
       "       0, 0, 0, 0, 0, 0, 0, 0, 0, 0, 0, 0, 0, 0, 0, 0, 0, 0, 0, 0, 0, 0,\n",
       "       0, 0, 0, 0, 0, 0, 1, 1, 1, 2, 2, 2, 1, 2, 2, 2, 2, 2, 2, 2, 2, 1,\n",
       "       2, 2, 2, 2, 1, 2, 2, 2, 2, 1, 1, 1, 2, 2, 2, 2, 2, 2, 2, 1, 1, 2,\n",
       "       2, 2, 2, 2, 2, 2, 2, 2, 2, 2, 2, 2, 1, 2, 1, 1, 1, 1, 2, 1, 1, 1,\n",
       "       1, 1, 1, 2, 2, 1, 1, 1, 1, 2, 1, 2, 1, 2, 1, 1, 2, 1, 1, 1, 1, 1,\n",
       "       1, 2, 2, 1, 1, 1, 2, 1, 1, 1, 2, 1, 1, 1, 2, 1, 1, 2])"
      ]
     },
     "execution_count": 5,
     "metadata": {},
     "output_type": "execute_result"
    }
   ],
   "source": [
    "km = KMeans(n_clusters=3, random_state=100) \n",
    "km.fit_transform(data)\n",
    "km.labels_"
   ]
  },
  {
   "cell_type": "code",
   "execution_count": 6,
   "metadata": {},
   "outputs": [
    {
     "data": {
      "text/plain": [
       "array([0, 0, 0, 0, 0, 0, 0, 0, 0, 0, 0, 0, 0, 0, 0, 0, 0, 0, 0, 0, 0, 0,\n",
       "       0, 0, 0, 0, 0, 0, 0, 0, 0, 0, 0, 0, 0, 0, 0, 0, 0, 0, 0, 0, 0, 0,\n",
       "       0, 0, 0, 0, 0, 0, 1, 1, 1, 1, 1, 1, 1, 1, 1, 1, 1, 1, 1, 1, 1, 1,\n",
       "       1, 1, 1, 1, 1, 1, 1, 1, 1, 1, 1, 1, 1, 1, 1, 1, 1, 1, 1, 1, 1, 1,\n",
       "       1, 1, 1, 1, 1, 1, 1, 1, 1, 1, 1, 1, 2, 2, 2, 2, 2, 2, 2, 2, 2, 2,\n",
       "       2, 2, 2, 2, 2, 2, 2, 2, 2, 2, 2, 2, 2, 2, 2, 2, 2, 2, 2, 2, 2, 2,\n",
       "       2, 2, 2, 2, 2, 2, 2, 2, 2, 2, 2, 2, 2, 2, 2, 2, 2, 2])"
      ]
     },
     "execution_count": 6,
     "metadata": {},
     "output_type": "execute_result"
    }
   ],
   "source": [
    "label"
   ]
  },
  {
   "cell_type": "code",
   "execution_count": 7,
   "metadata": {},
   "outputs": [
    {
     "data": {
      "text/plain": [
       "0.6201351808870379"
      ]
     },
     "execution_count": 7,
     "metadata": {},
     "output_type": "execute_result"
    }
   ],
   "source": [
    "metrics.adjusted_rand_score(label, km.labels_)"
   ]
  },
  {
   "cell_type": "code",
   "execution_count": 59,
   "metadata": {
    "scrolled": true
   },
   "outputs": [
    {
     "data": {
      "image/png": "[encoded data removed]",
      "text/plain": [
       "<Figure size 432x288 with 1 Axes>"
      ]
     },
     "metadata": {
      "needs_background": "light"
     },
     "output_type": "display_data"
    }
   ],
   "source": [
    "# Euclidean Distance\n",
    "sse = list()\n",
    "for k in range(2,30):\n",
    "    km = KMeans(n_clusters=k, random_state=100) \n",
    "    km.fit_transform(data)\n",
    "#     sse.append(sum(np.min(cdist(data, km.cluster_centers_,'euclidean'),axis=1)))\n",
    "    # print(km.cluster_centers_.shape)\n",
    "    sse.append(km.inertia_)\n",
    "\n",
    "plt.plot(range(2,30), sse, marker=\"o\")\n",
    "plt.xlabel(\"k value(Euclidean Distance)\")\n",
    "plt.ylabel('SSE')\n",
    "plt.show()"
   ]
  },
  {
   "cell_type": "code",
   "execution_count": 60,
   "metadata": {},
   "outputs": [
    {
     "data": {
      "image/png": "[encoded data removed]",
      "text/plain": [
       "<Figure size 432x288 with 1 Axes>"
      ]
     },
     "metadata": {
      "needs_background": "light"
     },
     "output_type": "display_data"
    }
   ],
   "source": [
    "# Cosine Distance\n",
    "sse = list()\n",
    "for k in range(2,30):\n",
    "    km = KMeans(n_clusters=k, random_state=100) \n",
    "    km.fit_transform(data)\n",
    "    sse.append(sum(np.min(cdist(data, km.cluster_centers_,'cosine'),axis=1)))\n",
    "    \n",
    "# km.cluster_centers_\n",
    "\n",
    "plt.plot(range(2,30), sse, marker=\"o\")\n",
    "plt.xlabel(\"k value (Cosine Distance)\")\n",
    "plt.ylabel('SSE')\n",
    "plt.show()"
   ]
  },
  {
   "cell_type": "code",
   "execution_count": 61,
   "metadata": {},
   "outputs": [
    {
     "data": {
      "image/png": "[encoded data removed]",
      "text/plain": [
       "<Figure size 432x288 with 1 Axes>"
      ]
     },
     "metadata": {
      "needs_background": "light"
     },
     "output_type": "display_data"
    }
   ],
   "source": [
    "# Jaccard Distance\n",
    "sse = list()\n",
    "for k in range(2,30):\n",
    "    km = KMeans(n_clusters=k, random_state=100) \n",
    "    km.fit_transform(data)\n",
    "    sse.append(sum(np.min(cdist(data, km.cluster_centers_,'jaccard'),axis=1)))\n",
    "    \n",
    "# km.cluster_centers_\n",
    "\n",
    "plt.plot(range(2,30), sse, marker=\"o\")\n",
    "plt.xlabel(\"k value (Jaccard Distance)\")\n",
    "plt.ylabel('SSE')\n",
    "plt.show()"
   ]
  },
  {
   "cell_type": "code",
   "execution_count": 29,
   "metadata": {},
   "outputs": [],
   "source": [
    "def cosine_distance(instance1,instance2):  \n",
    "    dot_product, square_sum_instance1, square_sum_instance2 = 0, 0, 0\n",
    "    for i in range(len(instance1)):\n",
    "        dot_product += instance1[i] * instance2[i]\n",
    "        square_sum_instance1 += instance1[i] * instance1[i]\n",
    "        square_sum_instance2 += instance2[i] * instance2[i]\n",
    "    cos = dot_product / (np.sqrt(square_sum_instance1) * np.sqrt(square_sum_instance2))\n",
    "    return 1 - cos\n",
    "\n",
    "def jaccard_distance(instance1,instance2):\n",
    "    intersection = len(set(instance1).intersection(instance2))\n",
    "    union = len(set(instance1)) + len(set(instance2)) - intersection\n",
    "    return 1 - intersection / union\n",
    "#     matV = np.vstack([instance1,instance2])\n",
    "#     j_distance = pdist(matV,'jaccard')\n",
    "#     return j_distance\n",
    "\n",
    "\n",
    "\n",
    "class K_Means(object):\n",
    "    def __init__(self, k=2, tolerance=0.0001, max_iter=300): # 300\n",
    "        self.k_ = k\n",
    "        self.tolerance_ = tolerance\n",
    "        self.max_iter_ = max_iter\n",
    "\n",
    "    def fit(self, data):\n",
    "        self.centers_ = {}\n",
    "        for i in range(self.k_):\n",
    "            self.centers_[i] = data[i]\n",
    "\n",
    "        for i in range(self.max_iter_):\n",
    "            self.clf_ = {}\n",
    "            for i in range(self.k_):\n",
    "                self.clf_[i] = []\n",
    "            # print(\"center point:\",self.centers_)\n",
    "            for feature in data:\n",
    "                # distances = [np.linalg.norm(feature-self.centers[center]) for center in self.centers]\n",
    "                distances = []\n",
    "                for center in self.centers_:\n",
    "                    # 1. Euclidean Distance            \n",
    "#                     distances.append(np.linalg.norm(feature - self.centers_[center]))    # np.sqrt(np.sum((features-self.centers_[center])**2))\n",
    "                    # 2. Cosine Distance\n",
    "#                     distances.append(cosine_distance(feature, self.centers_[center]))    # distances.append(np.dot(feature,self.centers_[center])/(np.linalg.norm(feature)*(np.linalg.norm(self.centers_[center]))))\n",
    "                    # 3. Jaccard Distance\n",
    "                    distances.append(jaccard_distance(feature, self.centers_[center]))\n",
    "                    \n",
    "                classification = distances.index(min(distances))\n",
    "                self.clf_[classification].append(feature)\n",
    "\n",
    "            prev_centers = dict(self.centers_)\n",
    "            for c in self.clf_:\n",
    "                self.centers_[c] = np.average(self.clf_[c], axis=0)\n",
    "\n",
    "            optimized = True\n",
    "            for center in self.centers_:\n",
    "                org_centers = prev_centers[center]\n",
    "                cur_centers = self.centers_[center]\n",
    "                if np.sum((cur_centers - org_centers) / org_centers * 100.0) > self.tolerance_:\n",
    "                    optimized = False\n",
    "            if optimized:\n",
    "                break\n",
    "\n",
    "    def predict(self, p_data):\n",
    "        distances = [np.linalg.norm(p_data - self.centers_[center]) for center in self.centers_]\n",
    "        index = distances.index(min(distances))\n",
    "        return index"
   ]
  },
  {
   "cell_type": "code",
   "execution_count": 98,
   "metadata": {},
   "outputs": [
    {
     "data": {
      "image/png": "[encoded data removed]",
      "text/plain": [
       "<Figure size 432x288 with 1 Axes>"
      ]
     },
     "metadata": {
      "needs_background": "light"
     },
     "output_type": "display_data"
    }
   ],
   "source": [
    "# SSE: Euclidean Distance\n",
    "sse = list()\n",
    "\n",
    "for k in range(2,15):\n",
    "    km = K_Means(k=k) \n",
    "    km.fit(data)\n",
    "    center_list = []\n",
    "\n",
    "    for i in km.centers_.items():\n",
    "        center_list.append(i[1])\n",
    "        \n",
    "    center_ndarray = np.array(center_list)\n",
    "    sse.append(sum(np.min(cdist(data, center_ndarray,'euclidean'),axis=1)))\n",
    "\n",
    "plt.plot(range(2,15), sse, marker=\"o\")\n",
    "plt.xlabel(\"k value\")\n",
    "plt.ylabel('SSE')\n",
    "plt.show()"
   ]
  },
  {
   "cell_type": "code",
   "execution_count": 100,
   "metadata": {},
   "outputs": [
    {
     "data": {
      "image/png": "[encoded data removed]",
      "text/plain": [
       "<Figure size 432x288 with 1 Axes>"
      ]
     },
     "metadata": {
      "needs_background": "light"
     },
     "output_type": "display_data"
    }
   ],
   "source": [
    "# SSE: Cosine Distance\n",
    "sse = list()\n",
    "\n",
    "for k in range(2,15):\n",
    "    km = K_Means(k=k) \n",
    "    km.fit(data)\n",
    "    center_list = []\n",
    "\n",
    "    for i in km.centers_.items():\n",
    "        center_list.append(i[1])\n",
    "        \n",
    "    center_ndarray = np.array(center_list)\n",
    "    sse.append(sum(np.min(cdist(data, center_ndarray,'cosine'),axis=1)))\n",
    "\n",
    "plt.plot(range(2,15), sse, marker=\"o\")\n",
    "plt.xlabel(\"k value\")\n",
    "plt.ylabel('SSE')\n",
    "plt.show()"
   ]
  },
  {
   "cell_type": "code",
   "execution_count": 38,
   "metadata": {},
   "outputs": [
    {
     "name": "stdout",
     "output_type": "stream",
     "text": [
      "[[ 0.00247766  0.04018449 -0.02771183 -0.02677627]\n",
      " [-0.00951103 -0.15425659  0.10637766  0.10278634]]\n",
      "[[ 0.00288495  0.00613858 -0.01726775 -0.03171709]\n",
      " [-0.00951103 -0.15425659  0.10637766  0.10278634]\n",
      " [-0.00057699  0.2955288  -0.1060424   0.01027985]]\n"
     ]
    },
    {
     "data": {
      "image/png": "[encoded data removed]",
      "text/plain": [
       "<Figure size 432x288 with 1 Axes>"
      ]
     },
     "metadata": {
      "needs_background": "light"
     },
     "output_type": "display_data"
    }
   ],
   "source": [
    "# SSE: Jaccard Distance\n",
    "sse = list()\n",
    "\n",
    "for k in range(2,4):\n",
    "    km = K_Means(k=k,max_iter=400) \n",
    "    km.fit(data)\n",
    "    center_list = []\n",
    "\n",
    "    for i in km.centers_.items():\n",
    "        center_list.append(i[1])\n",
    "        \n",
    "    center_ndarray = np.array(center_list)\n",
    "    print(center_ndarray)\n",
    "    sse.append(sum(np.min(cdist(data, center_ndarray,'jaccard'),axis=1)))\n",
    "\n",
    "plt.plot(range(2,4), sse, marker=\"o\")\n",
    "plt.xlabel(\"k value\")\n",
    "plt.ylabel('SSE')\n",
    "plt.show()"
   ]
  },
  {
   "cell_type": "code",
   "execution_count": 25,
   "metadata": {},
   "outputs": [],
   "source": [
    "km = K_Means(k=3) \n",
    "km.fit(data)\n",
    "predict = list()\n",
    "\n",
    "for i in data:\n",
    "    predict.append(km.predict(i))\n",
    "predict_ndarray = np.array(predict)"
   ]
  },
  {
   "cell_type": "code",
   "execution_count": 18,
   "metadata": {},
   "outputs": [
    {
     "data": {
      "text/plain": [
       "0.6123997398655971"
      ]
     },
     "execution_count": 18,
     "metadata": {},
     "output_type": "execute_result"
    }
   ],
   "source": [
    "# Accuracy: Euclidean Distance\n",
    "metrics.adjusted_rand_score(label, predict_ndarray)"
   ]
  },
  {
   "cell_type": "code",
   "execution_count": 22,
   "metadata": {},
   "outputs": [
    {
     "data": {
      "text/plain": [
       "0.6302367346938775"
      ]
     },
     "execution_count": 22,
     "metadata": {},
     "output_type": "execute_result"
    }
   ],
   "source": [
    "# Accuracy: Cosine Distance\n",
    "metrics.adjusted_rand_score(label, predict_ndarray)"
   ]
  },
  {
   "cell_type": "code",
   "execution_count": 26,
   "metadata": {},
   "outputs": [
    {
     "data": {
      "text/plain": [
       "0.4452819451879072"
      ]
     },
     "execution_count": 26,
     "metadata": {},
     "output_type": "execute_result"
    }
   ],
   "source": [
    "# Accuracy: Jaccard Distance\n",
    "metrics.adjusted_rand_score(label, predict_ndarray)"
   ]
  }
 ],
 "metadata": {
  "kernelspec": {
   "display_name": "Python 3",
   "language": "python",
   "name": "python3"
  },
  "language_info": {
   "codemirror_mode": {
    "name": "ipython",
    "version": 3
   },
   "file_extension": ".py",
   "mimetype": "text/x-python",
   "name": "python",
   "nbconvert_exporter": "python",
   "pygments_lexer": "ipython3",
   "version": "3.7.7"
  }
 },
 "nbformat": 4,
 "nbformat_minor": 4
}

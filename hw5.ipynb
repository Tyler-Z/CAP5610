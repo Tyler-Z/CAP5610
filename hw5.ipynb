{
 "cells": [
  {
   "cell_type": "code",
   "execution_count": 135,
   "metadata": {},
   "outputs": [],
   "source": [
    "import numpy as np\n",
    "from numpy import *\n",
    "import pandas as pd\n",
    "import matplotlib.pyplot as plt\n",
    "from sklearn.metrics.pairwise import cosine_similarity\n",
    "from sklearn.datasets import load_iris\n",
    "from sklearn.cluster import KMeans\n",
    "from sklearn.preprocessing import StandardScaler\n",
    "from sklearn import preprocessing\n",
    "\n",
    "from scipy import spatial\n",
    "import scipy.spatial.distance as dist\n",
    "from sklearn.metrics import silhouette_score"
   ]
  },
  {
   "cell_type": "markdown",
   "metadata": {},
   "source": [
    "### Task 1"
   ]
  },
  {
   "cell_type": "code",
   "execution_count": 87,
   "metadata": {},
   "outputs": [
    {
     "data": {
      "image/png": "[encoded data removed]",
      "text/plain": [
       "<Figure size 432x288 with 1 Axes>"
      ]
     },
     "metadata": {
      "needs_background": "light"
     },
     "output_type": "display_data"
    }
   ],
   "source": [
    "x1 = np.array([3,5])\n",
    "x2 = np.array([3,4])\n",
    "x3 = np.array([2,8])\n",
    "x4 = np.array([2,3])\n",
    "x5 = np.array([6,2])\n",
    "x6 = np.array([6,4])\n",
    "x7 = np.array([7,3])\n",
    "x8 = np.array([7,4])\n",
    "x9 = np.array([8,5])\n",
    "x10 = np.array([7,6])\n",
    "samples = [x1, x2, x3, x4, x5, x6, x7, x8, x9, x10]\n",
    "\n",
    "x = np.array([3,3,2,2,6,6,7,7,8,7])\n",
    "y = np.array([5,4,8,3,2,4,3,4,5,6])\n",
    "plt.xlabel(\"# wins in Season 2016 (x-axis) \") \n",
    "plt.ylabel(\"# wins in Season 2017 (y-axis) \") \n",
    "plt.plot(x,y,\"ob\") \n",
    "plt.show()"
   ]
  },
  {
   "cell_type": "markdown",
   "metadata": {},
   "source": [
    ">(1) Initialize with two centroids, (4, 6) and (5, 4). Use Manhattan distance as the distance metric. First, perform one iteration of the K-means algorithm and report the coordinates of the resulting centroids. Second, please use K-Means to find two clusters."
   ]
  },
  {
   "cell_type": "code",
   "execution_count": 70,
   "metadata": {
    "scrolled": true
   },
   "outputs": [
    {
     "name": "stdout",
     "output_type": "stream",
     "text": [
      "[2, 3, 4, 5, 6, 4, 6, 5, 5, 3]\n",
      "==================================================\n",
      "[3.0, 2.0, 7.0, 4.0, 3.0, 1.0, 3.0, 2.0, 4.0, 4.0]\n"
     ]
    }
   ],
   "source": [
    "# Calculate the Manhattan distance between x1 and c1\n",
    "c1 = np.array([4,6])\n",
    "c2 = np.array([5,4])\n",
    "\n",
    "distance_c1 = list()\n",
    "distance_c2 = list()\n",
    "\n",
    "for i in samples:\n",
    "    md_c1 = np.sum(np.abs(i-c1))\n",
    "    distance_c1.append(md_c1)\n",
    "    md_c2 = np.linalg.norm(i-c2,ord=1)\n",
    "    distance_c2.append(md_c2)\n",
    "\n",
    "\n",
    "print(distance_c1)\n",
    "print(\"=\"*50)\n",
    "print(distance_c2)"
   ]
  },
  {
   "cell_type": "markdown",
   "metadata": {},
   "source": [
    ">(2) Initialize with two centroids, (4, 6) and (5, 4). Use Euclidean distance as the distance metric.\n",
    "First, perform one iteration of the K-means algorithm and report the coordinates of the\n",
    "resulting centroids. Second, please use K-Means to find two clusters."
   ]
  },
  {
   "cell_type": "code",
   "execution_count": 72,
   "metadata": {},
   "outputs": [
    {
     "name": "stdout",
     "output_type": "stream",
     "text": [
      "[1.41, 2.24, 2.83, 3.61, 4.47, 2.83, 4.24, 3.61, 4.12, 3.0]\n",
      "==================================================\n",
      "[2.24, 2.0, 5.0, 3.16, 2.24, 1.0, 2.24, 2.0, 3.16, 2.83]\n"
     ]
    }
   ],
   "source": [
    "# Calculate the Euclidean distance between x1 and c1\n",
    "c1 = np.array([4,6])\n",
    "c2 = np.array([5,4])\n",
    "distance_c1 = list()\n",
    "distance_c2 = list()\n",
    "\n",
    "for i in samples:\n",
    "    ed_c1 = np.sqrt(np.sum(np.square(i-c1)))\n",
    "    ed_c1 = np.around(ed_c1, decimals=2)\n",
    "    distance_c1.append(ed_c1)\n",
    "    ed_c2 = np.linalg.norm(i-c2,ord=2)\n",
    "    ed_c2 = np.around(ed_c2, decimals=2)\n",
    "    distance_c2.append(ed_c2)\n",
    "    \n",
    "\n",
    "print(distance_c1)\n",
    "print(\"=\"*50)\n",
    "print(distance_c2)"
   ]
  },
  {
   "cell_type": "markdown",
   "metadata": {},
   "source": [
    ">(3) Initialize with two centroids, (3, 3) and (8, 3). Use Manhattan distance as the distance metric.First, perform one iteration of the K-means algorithm and report the coordinates of the resulting centroids. Second, please use K-Means to find two clusters."
   ]
  },
  {
   "cell_type": "code",
   "execution_count": 75,
   "metadata": {},
   "outputs": [
    {
     "name": "stdout",
     "output_type": "stream",
     "text": [
      "[2, 1, 6, 1, 4, 4, 4, 5, 7, 7]\n",
      "==================================================\n",
      "[7.0, 6.0, 11.0, 6.0, 3.0, 3.0, 1.0, 2.0, 2.0, 4.0]\n"
     ]
    }
   ],
   "source": [
    "# Calculate the Manhattan distance between x1 and c1\n",
    "c1 = np.array([3,3])\n",
    "c2 = np.array([8,3])\n",
    "distance_c1 = list()\n",
    "distance_c2 = list()\n",
    "\n",
    "for i in samples:\n",
    "    md_c1 = np.sum(np.abs(i-c1))\n",
    "    distance_c1.append(md_c1)\n",
    "    md_c2 = np.linalg.norm(i-c2,ord=1)\n",
    "    distance_c2.append(md_c2)\n",
    "    \n",
    "print(distance_c1)\n",
    "print(\"=\"*50)\n",
    "print(distance_c2)"
   ]
  },
  {
   "cell_type": "markdown",
   "metadata": {},
   "source": [
    ">(4) Initialize with two centroids, (3, 2) and (4, 8). Use Manhattan distance as the distance metric. First, perform one iteration of the K-means algorithm and report the coordinates of the resulting centroids. Second, please use K-Means to find two clusters."
   ]
  },
  {
   "cell_type": "code",
   "execution_count": 76,
   "metadata": {},
   "outputs": [
    {
     "name": "stdout",
     "output_type": "stream",
     "text": [
      "[3, 2, 7, 2, 3, 5, 5, 6, 8, 8]\n",
      "==================================================\n",
      "[4.0, 5.0, 2.0, 7.0, 8.0, 6.0, 8.0, 7.0, 7.0, 5.0]\n"
     ]
    }
   ],
   "source": [
    "# Calculate the Manhattan distance between x1 and c1\n",
    "c1 = np.array([3,2])\n",
    "c2 = np.array([4,8])\n",
    "distance_c1 = list()\n",
    "distance_c2 = list()\n",
    "\n",
    "for i in samples:\n",
    "    md_c1 = np.sum(np.abs(i-c1))\n",
    "    distance_c1.append(md_c1)\n",
    "    md_c2 = np.linalg.norm(i-c2,ord=1)\n",
    "    distance_c2.append(md_c2)\n",
    "    \n",
    "print(distance_c1)\n",
    "print(\"=\"*50)\n",
    "print(distance_c2)"
   ]
  },
  {
   "cell_type": "markdown",
   "metadata": {},
   "source": [
    "## Task 2"
   ]
  },
  {
   "cell_type": "code",
   "execution_count": 149,
   "metadata": {
    "scrolled": true
   },
   "outputs": [],
   "source": [
    "data = load_iris().data\n",
    "label = load_iris()['target']\n",
    "std = StandardScaler()\n",
    "data = std.fit_transform(data)\n",
    "km = KMeans(n_clusters=3) \n",
    "km.fit_transform(data)\n",
    "predict = km.predict(data)"
   ]
  },
  {
   "cell_type": "code",
   "execution_count": 150,
   "metadata": {},
   "outputs": [
    {
     "name": "stdout",
     "output_type": "stream",
     "text": [
      "cosine similarity: 0.8527855787026674\n"
     ]
    }
   ],
   "source": [
    "cosine_similarity = 1 - spatial.distance.cosine(predict, label)\n",
    "print(\"cosine similarity:\", cosine_similarity)"
   ]
  },
  {
   "cell_type": "code",
   "execution_count": 151,
   "metadata": {},
   "outputs": [
    {
     "name": "stdout",
     "output_type": "stream",
     "text": [
      "jaccard distance: [0.75]\n"
     ]
    }
   ],
   "source": [
    "matV = mat([predict,label])\n",
    "j_dist = dist.pdist(matV,'jaccard')\n",
    "print (\"jaccard distance:\", j_dist)"
   ]
  },
  {
   "cell_type": "code",
   "execution_count": 152,
   "metadata": {},
   "outputs": [
    {
     "data": {
      "text/plain": [
       "0.45994823920518635"
      ]
     },
     "execution_count": 152,
     "metadata": {},
     "output_type": "execute_result"
    }
   ],
   "source": [
    "silhouette_score(data,predict)"
   ]
  },
  {
   "cell_type": "code",
   "execution_count": 134,
   "metadata": {},
   "outputs": [
    {
     "name": "stderr",
     "output_type": "stream",
     "text": [
      "D:\\Applications\\Anaconda\\lib\\site-packages\\sklearn\\cluster\\_kmeans.py:974: FutureWarning: 'n_jobs' was deprecated in version 0.23 and will be removed in 0.25.\n",
      "  \" removed in 0.25.\", FutureWarning)\n"
     ]
    }
   ],
   "source": [
    "def KMeans_cosine_fit(sparse_data, nclust = 3, njobs=-1, randomstate=None):\n",
    "    # Manually override euclidean\n",
    "    def euc_dist(X, Y = None, Y_norm_squared = None, squared = False):\n",
    "        #return pairwise_distances(X, Y, metric = 'cosine', n_jobs = 10)\n",
    "        return np.arccos(cosine_similarity(X, Y))/np.pi\n",
    "    KMeans.euclidean_distances = euc_dist\n",
    "    kmeans = KMeans(n_clusters = nclust, n_jobs = njobs, random_state = randomstate)\n",
    "    _ = kmeans.fit(sparse_data)\n",
    "    return kmeans\n",
    "\n",
    "km_cos = KMeans_cosine_fit(data)"
   ]
  },
  {
   "cell_type": "code",
   "execution_count": null,
   "metadata": {},
   "outputs": [],
   "source": []
  }
 ],
 "metadata": {
  "kernelspec": {
   "display_name": "Python 3",
   "language": "python",
   "name": "python3"
  },
  "language_info": {
   "codemirror_mode": {
    "name": "ipython",
    "version": 3
   },
   "file_extension": ".py",
   "mimetype": "text/x-python",
   "name": "python",
   "nbconvert_exporter": "python",
   "pygments_lexer": "ipython3",
   "version": "3.7.7"
  }
 },
 "nbformat": 4,
 "nbformat_minor": 4
}
